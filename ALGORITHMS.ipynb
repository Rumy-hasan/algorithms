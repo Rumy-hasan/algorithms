{
 "cells": [
  {
   "cell_type": "markdown",
   "metadata": {},
   "source": [
    "# SORTING ALGORITHMS"
   ]
  },
  {
   "cell_type": "markdown",
   "metadata": {},
   "source": [
    "I try to implement all sorting algorithm in one place.Selection sort,merege sort,insertion sort,bubble sort,quick sort are in one place."
   ]
  },
  {
   "cell_type": "markdown",
   "metadata": {},
   "source": [
    "# Selection sort"
   ]
  },
  {
   "cell_type": "markdown",
   "metadata": {},
   "source": [
    "The learning resource is https://www.khanacademy.org/computing/computer-science/algorithms/sorting-algorithms/p/challenge-implement-selection-sort. The time complexity of this algorithm is O(n^2)."
   ]
  },
  {
   "cell_type": "code",
   "execution_count": 10,
   "metadata": {
    "collapsed": true
   },
   "outputs": [],
   "source": [
    "#----- find minimum number withen an array----------\n",
    "def minFinder(array,startingIndex):\n",
    "    minimun=array[startingIndex]\n",
    "    minIndex=startingIndex\n",
    "    for i in range(startingIndex+1,len(array)):\n",
    "        if minimun>array[i]:\n",
    "            minimun=array[i]\n",
    "            minIndex=i\n",
    "    return minIndex\n"
   ]
  },
  {
   "cell_type": "code",
   "execution_count": 11,
   "metadata": {
    "collapsed": true
   },
   "outputs": [],
   "source": [
    "#-------- swap function-----------\n",
    "def swap(array,firstIndex,secondIndex):\n",
    "    temp=array[firstIndex]\n",
    "    array[firstIndex]=array[secondIndex]\n",
    "    array[secondIndex]=temp"
   ]
  },
  {
   "cell_type": "code",
   "execution_count": 12,
   "metadata": {
    "collapsed": true
   },
   "outputs": [],
   "source": [
    "#------ the main function-----------------\n",
    "def selectionShort(x):\n",
    "    for i in range(len(x)-1):\n",
    "        swap(x,i,minFinder(x,i))\n",
    "    return x\n"
   ]
  },
  {
   "cell_type": "code",
   "execution_count": 13,
   "metadata": {
    "collapsed": false
   },
   "outputs": [],
   "source": [
    "#Get input data from the user and in a comma seperated way.\n",
    "def get_input():\n",
    "    a=raw_input(\"give input :\").split(\",\")\t#use input as a function when compling with python 3\n",
    "    b=list(map (int , a))\n",
    "    return selectionShort(b)"
   ]
  },
  {
   "cell_type": "code",
   "execution_count": 15,
   "metadata": {
    "collapsed": false
   },
   "outputs": [
    {
     "name": "stdout",
     "output_type": "stream",
     "text": [
      "give input :0,9,3,4,1\n",
      "[0, 1, 3, 4, 9]\n"
     ]
    }
   ],
   "source": [
    "#Calling the function \n",
    "print(get_input())"
   ]
  },
  {
   "cell_type": "markdown",
   "metadata": {},
   "source": [
    "# Bubble sort"
   ]
  },
  {
   "cell_type": "markdown",
   "metadata": {},
   "source": [
    "The learning resource of bubble sort is https://www.interviewbit.com/ .The time complexity of bubble sort is also O(n^2)"
   ]
  },
  {
   "cell_type": "code",
   "execution_count": 23,
   "metadata": {
    "collapsed": false
   },
   "outputs": [
    {
     "name": "stdout",
     "output_type": "stream",
     "text": [
      "give input as a comma seperated way:-0,9,8,7,1,10,-100\n",
      "[-100, 0, 1, 7, 8, 9, 10]\n"
     ]
    }
   ],
   "source": [
    "#---------- the time complexity is O(n^2)----------------\n",
    "def bubble(a):\n",
    "    i=0\n",
    "    while i<len(a)-1:\n",
    "        j=0\n",
    "        flag=0\n",
    "        while j<len(a)-i-1:\n",
    "            if a[j]>a[j+1]:\n",
    "                flag=1\n",
    "                swap(a,j)\n",
    "            j=j+1\n",
    "        if flag==0:\n",
    "            break\n",
    "        i=i+1\n",
    "    return a\n",
    "\n",
    "\n",
    "def swap(a,j):\n",
    "    tem=a[j]\n",
    "    a[j]=a[j+1]\n",
    "    a[j+1]=tem\n",
    "\n",
    "#result=bubble([10,1,-2,8,5,-24])\n",
    "#call for get input from user\n",
    "result=bubble(list(map(int,raw_input('give input as a comma seperated way:').split(','))))\n",
    "print (result)\n"
   ]
  },
  {
   "cell_type": "markdown",
   "metadata": {},
   "source": [
    "# Insertion sort"
   ]
  },
  {
   "cell_type": "markdown",
   "metadata": {},
   "source": [
    "The learning resource for insertion sort is https://www.khanacademy.org/computing/computer-science/algorithms/insertion-sort/p/challenge-implement-insert . Time complexity of insertion sort is also O(n^2) but it is quiet good then bubble and selection sort because of the comparison."
   ]
  },
  {
   "cell_type": "code",
   "execution_count": 26,
   "metadata": {
    "collapsed": false
   },
   "outputs": [
    {
     "name": "stdout",
     "output_type": "stream",
     "text": [
      "give input : 0,9,3,4,-10\n",
      "[-10, 0, 3, 4, 9]\n"
     ]
    }
   ],
   "source": [
    "def get_input ():\n",
    "    a=raw_input(\"give input : \").split(\",\")\t#use input for python 3\n",
    "    array=list(map(int,a))\n",
    "    return insertionSort(array)\n",
    "\n",
    "def insertionSort(array):\n",
    "    for i in range (1,len(array)):\n",
    "        a=insert(array,i,array[i])\n",
    "    return a\n",
    "\n",
    "def insert(array,hole,value):\n",
    "    while hole>0 and array[hole-1]>value:\n",
    "        array[hole]=array[hole-1]\n",
    "        hole-=1\n",
    "    array[hole]=value\n",
    "    return array\n",
    "\n",
    "print get_input()"
   ]
  },
  {
   "cell_type": "markdown",
   "metadata": {},
   "source": [
    "# Merge sort "
   ]
  },
  {
   "cell_type": "markdown",
   "metadata": {},
   "source": [
    "Merge sort is quiet good in the comparism of time complexity.The learning resource of merge sort is https://www.interviewbit.com/ .It's time complexity is O(n *log(n)) even if the worst case.The space complexity is O(n) if we erase the extra memory else O(n*log(n)) if we don't erase the extra memory which we don't need after calculating those part."
   ]
  },
  {
   "cell_type": "code",
   "execution_count": 31,
   "metadata": {
    "collapsed": false
   },
   "outputs": [
    {
     "name": "stdout",
     "output_type": "stream",
     "text": [
      "give input in comma seperated way:0,9\n",
      "[0, 9]\n"
     ]
    }
   ],
   "source": [
    "def merge(a,l,r):\n",
    "    size_l=len(l)\n",
    "    size_r=len(r)\n",
    "    i=j=k=0\n",
    "    while i<size_l and j<size_r:\n",
    "        if l[i]<r[j]:\n",
    "            a[k]=l[i]\n",
    "            i+=1\n",
    "        else:\n",
    "            a[k]=r[j]\n",
    "            j+=1\n",
    "        k+=1\n",
    "\n",
    "    while(i<size_l):\n",
    "        a[k]=l[i]\n",
    "        k+=1\n",
    "        i+=1\n",
    "    while (j<size_r):\n",
    "        a[k]=r[j]\n",
    "        k+=1\n",
    "        j+=1\n",
    "\n",
    "    return a\n",
    "\n",
    "def recursion(a):\n",
    "    if len(a)<2:\n",
    "        return a\n",
    "    mid_a=len(a)/2\n",
    "    left=a[:mid_a]\n",
    "    right=a[mid_a:]\n",
    "    recursion(left)\n",
    "    recursion(right)\n",
    "    x=merge(a,left,right)\n",
    "    return x\n",
    "\n",
    "#get input from user in comma seperated way and call recursion function\n",
    "print recursion((list(map(int,raw_input(\"give input in comma seperated way:\").split(',')))))"
   ]
  },
  {
   "cell_type": "markdown",
   "metadata": {},
   "source": [
    "# Quick sort"
   ]
  },
  {
   "cell_type": "markdown",
   "metadata": {},
   "source": [
    "The learning resource of quick sort is https://www.interviewbit.com/ .It's one of the most common and used sorting algorithm.Many of our languages sorting function are implemented the quick sort.Though the time complexity is O(n^2) but it's has a large probability to solve the problem in O(n*log(n)) time complexity and it also eficcient than merge sort with respect to spece complexity because it works withen one list do not need to create any sub list like merge sort. "
   ]
  },
  {
   "cell_type": "code",
   "execution_count": 36,
   "metadata": {
    "collapsed": false
   },
   "outputs": [
    {
     "name": "stdout",
     "output_type": "stream",
     "text": [
      "give your input in comma seperated way:10,6,4,-10,-100,0,100,37\n",
      "[-100, -10, 0, 4, 6, 10, 37, 100]\n"
     ]
    }
   ],
   "source": [
    "def partition(A,start,end):\n",
    "    pvot_index=start\n",
    "    pivot=A[end]\n",
    "    for i in range(start,end):\n",
    "        if A[i]<pivot:\n",
    "            tem=A[pvot_index]\n",
    "            A[pvot_index]=A[i]\n",
    "            A[i]=tem\n",
    "            pvot_index+=1\n",
    "    tem=A[end]\n",
    "    A[end]=A[pvot_index]\n",
    "    A[pvot_index]=tem\n",
    "    return pvot_index\n",
    "\n",
    "def quick(A,start,end):\n",
    "    if start<end:\n",
    "        pvot_index=partition(A,start,end)\n",
    "        quick(A,start,pvot_index-1)\n",
    "        quick(A,pvot_index+1,end)\n",
    "    return A\n",
    "\n",
    "\n",
    "#take input from user by comma seperated way.\n",
    "#a=[-1,2,3,8,1,-10,7,8,-19,100,99]\n",
    "a=list(map(int,raw_input('give your input in comma seperated way:').split(',')))\n",
    "print quick(a,0,(len(a)-1))"
   ]
  },
  {
   "cell_type": "code",
   "execution_count": null,
   "metadata": {
    "collapsed": true
   },
   "outputs": [],
   "source": []
  }
 ],
 "metadata": {
  "kernelspec": {
   "display_name": "Python 2",
   "language": "python",
   "name": "python2"
  },
  "language_info": {
   "codemirror_mode": {
    "name": "ipython",
    "version": 2
   },
   "file_extension": ".py",
   "mimetype": "text/x-python",
   "name": "python",
   "nbconvert_exporter": "python",
   "pygments_lexer": "ipython2",
   "version": "2.7.11"
  }
 },
 "nbformat": 4,
 "nbformat_minor": 0
}
