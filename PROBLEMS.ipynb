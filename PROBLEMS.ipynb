{
 "cells": [
  {
   "cell_type": "markdown",
   "metadata": {},
   "source": [
    "# PROBLEMS"
   ]
  },
  {
   "cell_type": "markdown",
   "metadata": {},
   "source": [
    "The coding problems are define and then make a nice solution of it."
   ]
  },
  {
   "cell_type": "markdown",
   "metadata": {},
   "source": [
    "# 1. Fibonacci Number"
   ]
  },
  {
   "cell_type": "markdown",
   "metadata": {},
   "source": [
    "Here we need to find the N'th fibonacci number and the N will be the any value of positive integer.We design 2 algorithm for solving it and analysis the time complexity of them and make a decession that which one is the best with respect to time taken."
   ]
  },
  {
   "cell_type": "code",
   "execution_count": 9,
   "metadata": {
    "collapsed": false
   },
   "outputs": [
    {
     "name": "stdout",
     "output_type": "stream",
     "text": [
      "102334155\n"
     ]
    }
   ],
   "source": [
    "# ************************ fibonacci NUMBER CALCULATION *******************the worst one ***********************\n",
    "def fibonacci(n):\n",
    "    if n<0:\n",
    "        print ('wrong input\\n')\n",
    "        return 0\n",
    "    elif n<=1:\n",
    "        return n\n",
    "    else:\n",
    "        return fibonacci(n-1)+fibonacci(n-2)\n",
    "\n",
    "\n",
    "a=fibonacci(40)\n",
    "print(a)"
   ]
  },
  {
   "cell_type": "markdown",
   "metadata": {},
   "source": [
    "It requeres more than 1 minute to calculate the 40'th fibonacci number and it is the worst one.Try for some big fibonacci and can clear that it require lot's of time ."
   ]
  },
  {
   "cell_type": "code",
   "execution_count": 3,
   "metadata": {
    "collapsed": false
   },
   "outputs": [
    {
     "name": "stdout",
     "output_type": "stream",
     "text": [
      "34\n"
     ]
    }
   ],
   "source": [
    "# ************************ fibonacci NUMBER CALCULATION *******************the best one *************************\n",
    "fibonacci_num=[0,1]\n",
    "def fibonacci(n):\n",
    "    if n<=1:\n",
    "        return\n",
    "    else:\n",
    "        for i in range(2,n):\n",
    "            fibonacci_num.append(fibonacci_num[i-1]+fibonacci_num[i-2])\n",
    "\n",
    "n=10\n",
    "fibonacci(n)\n",
    "print(fibonacci_num[n-1])"
   ]
  },
  {
   "cell_type": "markdown",
   "metadata": {},
   "source": [
    "The above algorithm solve 100th fibonacci number in the blink of an eye.So it is best than the upper one and why it is better then the upper is a question for you.Try to analysis it."
   ]
  },
  {
   "cell_type": "markdown",
   "metadata": {},
   "source": [
    "# 2. GCD calculation"
   ]
  },
  {
   "cell_type": "code",
   "execution_count": 1,
   "metadata": {
    "collapsed": false
   },
   "outputs": [
    {
     "name": "stdout",
     "output_type": "stream",
     "text": [
      "5\n"
     ]
    }
   ],
   "source": [
    "#******************** Gretest Common Devisor **************************** the worst one ****************************\n",
    "def gcd(a,b):\n",
    "    if a<=0 and b<=0:\n",
    "        print('wrong input\\n')\n",
    "        return\n",
    "    result=0\n",
    "    for i in range(1,a+b):\n",
    "        if a%i==0 and b%i==0:\n",
    "            result=i\n",
    "    return result\n",
    "\n",
    "ans=gcd(30,25)\n",
    "print ans"
   ]
  },
  {
   "cell_type": "code",
   "execution_count": 2,
   "metadata": {
    "collapsed": false
   },
   "outputs": [
    {
     "name": "stdout",
     "output_type": "stream",
     "text": [
      "50000\n"
     ]
    }
   ],
   "source": [
    "#***************************** gcd calculation**************************** the best one ****************************\n",
    "def gcd(a,b):\n",
    "    if b==0:\n",
    "        return a\n",
    "    else:\n",
    "        c=a%b\n",
    "        return gcd(b,c)\n",
    "x=gcd(300000,250000)\n",
    "print x"
   ]
  },
  {
   "cell_type": "code",
   "execution_count": null,
   "metadata": {
    "collapsed": true
   },
   "outputs": [],
   "source": []
  }
 ],
 "metadata": {
  "kernelspec": {
   "display_name": "Python 2",
   "language": "python",
   "name": "python2"
  },
  "language_info": {
   "codemirror_mode": {
    "name": "ipython",
    "version": 2
   },
   "file_extension": ".py",
   "mimetype": "text/x-python",
   "name": "python",
   "nbconvert_exporter": "python",
   "pygments_lexer": "ipython2",
   "version": "2.7.11"
  }
 },
 "nbformat": 4,
 "nbformat_minor": 0
}
